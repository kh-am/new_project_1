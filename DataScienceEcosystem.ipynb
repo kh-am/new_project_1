{
 "cells": [
  {
   "cell_type": "markdown",
   "id": "ab1235f1",
   "metadata": {},
   "source": [
    "# Data Science Tools and Ecosystem"
   ]
  },
  {
   "cell_type": "markdown",
   "id": "ffad89c1",
   "metadata": {},
   "source": [
    "### introductory :\n",
    "\n",
    "###### In this notebook, Data Science Tools and Ecosystem are summarized."
   ]
  },
  {
   "cell_type": "markdown",
   "id": "d139e467",
   "metadata": {},
   "source": [
    "### Objectives\n",
    "- data science languages\n",
    "- data science libraries\n",
    "- arithmetic expression\n",
    "- Data Science Tools"
   ]
  },
  {
   "cell_type": "markdown",
   "id": "39464eb1",
   "metadata": {},
   "source": [
    "###  data science languages\n",
    "\n",
    "##### Some of the popular languages that Data Scientists use are:\n",
    "    1- python\n",
    "    2- R\n",
    "    3- rube"
   ]
  },
  {
   "cell_type": "markdown",
   "id": "8f66f46d",
   "metadata": {},
   "source": [
    "#  data science libraries\n",
    "\n",
    "##### Some of the commonly used libraries used by Data Scientists include:\n",
    "\n",
    "      1- numpy\n",
    "      2- pndas\n",
    "      3- Spark\n",
    "    "
   ]
  },
  {
   "cell_type": "markdown",
   "id": "d3769e01",
   "metadata": {},
   "source": [
    "|Data Science Tools |\n",
    "|:------------------|\n",
    "|RStudio            |\n",
    "|Apache Hadoop      |\n",
    "|RapidMiner         |"
   ]
  },
  {
   "cell_type": "markdown",
   "id": "a1032623",
   "metadata": {},
   "source": [
    "### introducing arithmetic expression\n",
    "Below are a few examples of evaluating arithmetic expressions in Python"
   ]
  },
  {
   "cell_type": "code",
   "execution_count": 6,
   "id": "e73e21f4",
   "metadata": {},
   "outputs": [
    {
     "data": {
      "text/plain": [
       "17"
      ]
     },
     "execution_count": 6,
     "metadata": {},
     "output_type": "execute_result"
    }
   ],
   "source": [
    "#This a simple arithmetic expression to mutiply then add integers\n",
    "(3*4)+5"
   ]
  },
  {
   "cell_type": "markdown",
   "id": "6be1e5b0",
   "metadata": {},
   "source": [
    "### convert minutes to hours\n",
    "\n"
   ]
  },
  {
   "cell_type": "code",
   "execution_count": 11,
   "id": "80132ae4",
   "metadata": {},
   "outputs": [
    {
     "data": {
      "text/plain": [
       "3.3333333333333335"
      ]
     },
     "execution_count": 11,
     "metadata": {},
     "output_type": "execute_result"
    }
   ],
   "source": [
    "#This will convert 200 minutes to hours by diving by 60\n",
    "200/60"
   ]
  },
  {
   "cell_type": "markdown",
   "id": "1c789bba",
   "metadata": {},
   "source": [
    "## Author's name\n",
    "- Lakshmi Holla\n",
    "\n",
    "- Niveditha Pandith\n",
    "- khawlah Almajed"
   ]
  }
 ],
 "metadata": {
  "kernelspec": {
   "display_name": "Python 3",
   "language": "python",
   "name": "python3"
  },
  "language_info": {
   "codemirror_mode": {
    "name": "ipython",
    "version": 3
   },
   "file_extension": ".py",
   "mimetype": "text/x-python",
   "name": "python",
   "nbconvert_exporter": "python",
   "pygments_lexer": "ipython3",
   "version": "3.8.8"
  }
 },
 "nbformat": 4,
 "nbformat_minor": 5
}
